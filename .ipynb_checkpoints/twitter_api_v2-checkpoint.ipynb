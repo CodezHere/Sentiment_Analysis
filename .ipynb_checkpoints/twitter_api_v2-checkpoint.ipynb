{
 "cells": [
  {
   "cell_type": "code",
   "execution_count": 72,
   "metadata": {},
   "outputs": [],
   "source": [
    "# Import Libraries\n",
    "\n",
    "import pandas as pd\n",
    "import requests\n",
    "import os\n",
    "import datetime"
   ]
  },
  {
   "cell_type": "code",
   "execution_count": 73,
   "metadata": {},
   "outputs": [],
   "source": [
    "# setting my keys & tokens using environment variables, using a YAML file would work as well\n",
    "\n",
    "consumer_key = os.environ[\"TWITTER_API_KEY\"]\n",
    "consumer_secret = os.environ[\"TWITTER_API_SECRET\"]\n",
    "access_token = os.environ[\"TWITTER_ACCESS_TOKEN\"]\n",
    "access_token_secret = os.environ[\"TWITTER_SECRET_TOKEN\"]\n",
    "bearer_token = os.environ[\"TWITTER_BEARER\"]"
   ]
  },
  {
   "cell_type": "code",
   "execution_count": 74,
   "metadata": {},
   "outputs": [],
   "source": [
    "# function to format the bearer token for request purposes\n",
    "\n",
    "def connect_to_twitter():\n",
    "    bearer_token = os.environ[\"TWITTER_BEARER\"]\n",
    "    return {\"Authorization\":\"Bearer {}\".format(bearer_token)}"
   ]
  },
  {
   "cell_type": "code",
   "execution_count": 75,
   "metadata": {},
   "outputs": [],
   "source": [
    "headers = connect_to_twitter()"
   ]
  },
  {
   "cell_type": "code",
   "execution_count": 66,
   "metadata": {},
   "outputs": [],
   "source": [
    "# function to make request to url endpoint\n",
    "# url can be changed based on the endpoint you want to connect to\n",
    "# params can be changed based on endpoint\n",
    "# query within params can be changed to your specific search\n",
    "\n",
    "def make_request(headers, start_date, end_date):\n",
    "    url = \"https://api.twitter.com/2/tweets/search/recent\"\n",
    "    params = \"query=(TSLA OR TESLA)&tweet.fields=public_metrics,created_at&start_time={}&end_time={}&max_results=100\".format(start_date, end_date)\n",
    "    return requests.request(\"GET\", url, params=params, headers=headers).json()"
   ]
  },
  {
   "cell_type": "code",
   "execution_count": 44,
   "metadata": {},
   "outputs": [],
   "source": [
    "# function to create a standard df based on the features needed\n",
    "# columns can be altered to the features you are looking for\n",
    "\n",
    "def make_df(response):\n",
    "    return pd.DataFrame(response['data'], columns=['id','created_at', 'text', 'public_metrics'])"
   ]
  },
  {
   "cell_type": "code",
   "execution_count": 69,
   "metadata": {},
   "outputs": [],
   "source": [
    "# function to populate a csv file with tweets pulled from api\n",
    "# since the api endpoint I'm using (/search/recent) is only available within the last week the day variable \n",
    "#     is set to 6 days previously and works closer to today with each loop\n",
    "\n",
    "def populate_tweets():    \n",
    "    day = (pd.to_datetime(datetime.date.today() - datetime.timedelta(days=6))).day\n",
    "    tweet_df = pd.read_csv('data/TSLA_tweets.csv')\n",
    "#     tweet_df.to_csv('data/test.csv')\n",
    "    for i in range(6):\n",
    "        date = '{}/03/2021'.format(day)\n",
    "        date1 = '{}/03/2021'.format(day+1)\n",
    "        start_date = pd.to_datetime(date, format='%d/%m/%Y').isoformat(\"T\")+\"Z\"\n",
    "        end_date = pd.to_datetime(date1, format='%d/%m/%Y').isoformat(\"T\")+\"Z\"\n",
    "        response = make_request(headers, start_date, end_date)\n",
    "        tmp_df = make_df(response)\n",
    "        tweet_df = pd.concat([tweet_df, tmp_df], ignore_index=True)\n",
    "        day+=1\n",
    "    tweet_df.to_csv('data/TSLA_tweets.csv')"
   ]
  },
  {
   "cell_type": "code",
   "execution_count": 70,
   "metadata": {},
   "outputs": [],
   "source": [
    "populate_tweets()"
   ]
  }
 ],
 "metadata": {
  "kernelspec": {
   "display_name": "Python 3",
   "language": "python",
   "name": "python3"
  },
  "language_info": {
   "codemirror_mode": {
    "name": "ipython",
    "version": 3
   },
   "file_extension": ".py",
   "mimetype": "text/x-python",
   "name": "python",
   "nbconvert_exporter": "python",
   "pygments_lexer": "ipython3",
   "version": "3.8.5"
  }
 },
 "nbformat": 4,
 "nbformat_minor": 4
}
