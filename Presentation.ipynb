{
 "cells": [
  {
   "cell_type": "markdown",
   "metadata": {
    "slideshow": {
     "slide_type": "slide"
    }
   },
   "source": [
    "# Financial Dashboard & Stock Sentiment Analysis\n",
    "### Cody Murdoch\n",
    "#### March 25, 2021"
   ]
  },
  {
   "cell_type": "markdown",
   "metadata": {
    "slideshow": {
     "slide_type": "slide"
    }
   },
   "source": [
    "## Background\n",
    "\n",
    "- Economics and Finance\n",
    "- Finance, Sales and Marketing\n",
    "- FUN FACT!"
   ]
  },
  {
   "cell_type": "markdown",
   "metadata": {
    "slideshow": {
     "slide_type": "slide"
    }
   },
   "source": [
    "<img src='https://media.giphy.com/media/AxMaQkk4Uouyc/giphy.gif' width='900' align='center'/>"
   ]
  },
  {
   "cell_type": "markdown",
   "metadata": {
    "slideshow": {
     "slide_type": "slide"
    }
   },
   "source": [
    "<img src='https://media.giphy.com/media/26uf18eNfifBTBZf2/giphy.gif' width='900'>"
   ]
  },
  {
   "cell_type": "markdown",
   "metadata": {
    "slideshow": {
     "slide_type": "slide"
    }
   },
   "source": [
    "## Inspiration"
   ]
  },
  {
   "cell_type": "markdown",
   "metadata": {
    "slideshow": {
     "slide_type": "slide"
    }
   },
   "source": [
    "# DEMO"
   ]
  },
  {
   "cell_type": "markdown",
   "metadata": {
    "slideshow": {
     "slide_type": "slide"
    }
   },
   "source": [
    "<img src='SentimentAnalysis.png' height='600' width='1200' align='center'>"
   ]
  },
  {
   "cell_type": "markdown",
   "metadata": {
    "slideshow": {
     "slide_type": "slide"
    }
   },
   "source": [
    "## Data Extraction\n",
    "- Yahoo Finance API\n",
    "- Finviz Web Scraping (Beautiful Soup)\n",
    "- Twitter API\n",
    "- StockTwits API"
   ]
  },
  {
   "cell_type": "markdown",
   "metadata": {
    "slideshow": {
     "slide_type": "slide"
    }
   },
   "source": [
    "## Tools Used\n",
    "- Data gathering & manipulation: Python & Pandas\n",
    "- Graphing: Plotly\n",
    "- Sentiment Analysis: Natural Language Processing (VADER Model)\n",
    "- Deployment: Streamlit.io"
   ]
  },
  {
   "cell_type": "markdown",
   "metadata": {
    "slideshow": {
     "slide_type": "slide"
    }
   },
   "source": [
    "## Next Steps\n",
    "- Improve application of VADER and improve sentiment analysis accuracy\n",
    "     - Increase the number of datapoints (Twitter API limitations)\n",
    "     - Utilize other metrics such as likes and retweets\n",
    "- Add more key metrics used for stock analysis (Industry averages, volume, etc)\n",
    "- Utilize more applications of Streamlit for data oranization/visualization\n",
    "- Ultimately using the data to train a forecasting model for stock price prediction"
   ]
  },
  {
   "cell_type": "markdown",
   "metadata": {
    "slideshow": {
     "slide_type": "slide"
    }
   },
   "source": [
    "# Thank You"
   ]
  },
  {
   "cell_type": "code",
   "execution_count": null,
   "metadata": {
    "slideshow": {
     "slide_type": "skip"
    }
   },
   "outputs": [],
   "source": []
  }
 ],
 "metadata": {
  "celltoolbar": "Slideshow",
  "kernelspec": {
   "display_name": "Python 3",
   "language": "python",
   "name": "python3"
  },
  "language_info": {
   "codemirror_mode": {
    "name": "ipython",
    "version": 3
   },
   "file_extension": ".py",
   "mimetype": "text/x-python",
   "name": "python",
   "nbconvert_exporter": "python",
   "pygments_lexer": "ipython3",
   "version": "3.8.5"
  }
 },
 "nbformat": 4,
 "nbformat_minor": 4
}
